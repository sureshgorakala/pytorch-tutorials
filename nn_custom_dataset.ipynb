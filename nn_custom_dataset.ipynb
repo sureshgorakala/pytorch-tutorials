{
 "cells": [
  {
   "cell_type": "code",
   "execution_count": 2,
   "metadata": {},
   "outputs": [],
   "source": [
    "%matplotlib inline\n",
    "\n",
    "import torch\n",
    "import os\n",
    "import shutil\n",
    "import random \n",
    "import torchvision\n",
    "from torch import nn \n",
    "import numpy as np\n",
    "\n",
    "from PIL import Image\n",
    "from matplotlib import pyplot as plt "
   ]
  },
  {
   "cell_type": "code",
   "execution_count": 3,
   "metadata": {},
   "outputs": [
    {
     "name": "stdout",
     "output_type": "stream",
     "text": [
      "pytorch version 1.10.2\n"
     ]
    }
   ],
   "source": [
    "torch.manual_seed(0)\n",
    "print ('pytorch version', torch.__version__)"
   ]
  },
  {
   "cell_type": "code",
   "execution_count": 4,
   "metadata": {},
   "outputs": [],
   "source": [
    "#preparing Training & test sets\n",
    "#https://www.kaggle.com/tawsifurrahman/covid19-radiography-database\n",
    "class_names = ['normal','viral','covid']\n",
    "root_dir = '/Users/sureshgorakala/Downloads/COVID-19_Radiography_Dataset'\n",
    "source_dirs = ['Normal','Viral Pneumonia','COVID']\n",
    "\n",
    "\n",
    "if os.path.isdir(os.path.join(root_dir,source_dirs[1])):\n",
    "    os.mkdir(os.path.join(root_dir,'test'))\n",
    "\n",
    "    for i,d in enumerate(source_dirs):\n",
    "        print(os.path.join(root_dir,d))\n",
    "        print(os.path.join(root_dir,class_names[i]))\n",
    "        os.rename(os.path.join(root_dir,d),os.path.join(root_dir,class_names[i]))\n",
    "\n",
    "    for c in class_names:\n",
    "        os.mkdir(os.path.join(root_dir,'test',c))\n",
    "\n",
    "    for c in class_names:\n",
    "        images = [x for x in os.listdir(os.path.join(root_dir,c)) if x.lower().endswith('png')]\n",
    "        selected_images = random.sample(images,30)\n",
    "        for image in selected_images:\n",
    "            source_path = os.path.join(root_dir,c,image)\n",
    "            target_path = os.path.join(root_dir,'test',c,image)\n",
    "            shutil.move(source_path,target_path)\n",
    "        "
   ]
  },
  {
   "cell_type": "code",
   "execution_count": 63,
   "metadata": {},
   "outputs": [],
   "source": [
    "class ChestXrayDataset(torch.utils.data.Dataset):\n",
    "    def __init__(self,image_dirs,transform):\n",
    "        def get_images(class_name):\n",
    "            images = [x for x in os.listdir(image_dirs[class_name]) if x.lower().endswith('png')]\n",
    "            print(f'found {len(images)} {class_name} examples')\n",
    "            return images\n",
    "\n",
    "        self.images = {}\n",
    "        self.class_names = ['normal','viral','covid']\n",
    "\n",
    "        for c in class_names:\n",
    "            self.images[c] = get_images(c)\n",
    "\n",
    "        self.image_dirs = image_dirs\n",
    "        self.transform = transform\n",
    "\n",
    "    \n",
    "    def __len__(self):\n",
    "        return sum([len(self.images[c]) for c in self.class_names])\n",
    "\n",
    "    def __getitem__(self,index):\n",
    "        class_name = random.choice(self.class_names)\n",
    "        index = index % len(self.images[class_name])\n",
    "        image_name = self.images[class_name][index]\n",
    "        image_path = os.path.join(self.image_dirs[class_name],image_name)\n",
    "        image = Image.open(image_path).convert('RGB')\n",
    "        return self.transform(image),self.class_names.index(class_name)\n",
    "\n",
    "\n",
    "\n"
   ]
  },
  {
   "cell_type": "code",
   "execution_count": 70,
   "metadata": {},
   "outputs": [],
   "source": [
    "#image trasnformations\n",
    "train_transform = torchvision.transforms.Compose([\n",
    "                    torchvision.transforms.Resize(size=(28,28)),\n",
    "                    torchvision.transforms.RandomHorizontalFlip(),\n",
    "                    torchvision.transforms.ToTensor(),\n",
    "                    torchvision.transforms.Grayscale(num_output_channels=1)\n",
    "                    #torchvision.transforms.Normalize(mean=[0.485,0.0456,0.406],std=[0.229,0.224,0.225])\n",
    "                        ])\n",
    "\n",
    "test_transform = torchvision.transforms.Compose([\n",
    "                    torchvision.transforms.Resize(size=(28,28)),\n",
    "                    torchvision.transforms.RandomHorizontalFlip(),\n",
    "                    torchvision.transforms.ToTensor(),\n",
    "                    torchvision.transforms.Grayscale(num_output_channels=1)\n",
    "                    #torchvision.transforms.Normalize(mean=[0.485,0.0456,0.406],std=[0.229,0.224,0.225])\n",
    "                        ])                        "
   ]
  },
  {
   "cell_type": "code",
   "execution_count": 71,
   "metadata": {},
   "outputs": [
    {
     "name": "stdout",
     "output_type": "stream",
     "text": [
      "found 10162 normal examples\n",
      "found 1315 viral examples\n",
      "found 3586 covid examples\n",
      "found 30 normal examples\n",
      "found 30 viral examples\n",
      "found 30 covid examples\n"
     ]
    }
   ],
   "source": [
    "train_dirs = {\n",
    "'normal': '/Users/sureshgorakala/Downloads/COVID-19_Radiography_Dataset/normal',\n",
    "'viral': '/Users/sureshgorakala/Downloads/COVID-19_Radiography_Dataset/viral',\n",
    "'covid':'/Users/sureshgorakala/Downloads/COVID-19_Radiography_Dataset/covid'\n",
    "\n",
    "}\n",
    "\n",
    "train_dataset = ChestXrayDataset(train_dirs,train_transform)\n",
    "\n",
    "\n",
    "test_dirs = {\n",
    "'normal': '/Users/sureshgorakala/Downloads/COVID-19_Radiography_Dataset/test/normal',\n",
    "'viral': '/Users/sureshgorakala/Downloads/COVID-19_Radiography_Dataset/test/viral',\n",
    "'covid':'/Users/sureshgorakala/Downloads/COVID-19_Radiography_Dataset/test/covid'\n",
    "\n",
    "}\n",
    "\n",
    "test_dataset = ChestXrayDataset(test_dirs,test_transform)"
   ]
  },
  {
   "cell_type": "code",
   "execution_count": 72,
   "metadata": {},
   "outputs": [],
   "source": [
    "batch_size = 64\n",
    "\n",
    "dl_train = torch.utils.data.DataLoader(train_dataset,batch_size,shuffle=True)\n",
    "dl_test = torch.utils.data.DataLoader(test_dataset,batch_size,shuffle=True)\n"
   ]
  },
  {
   "cell_type": "code",
   "execution_count": 73,
   "metadata": {},
   "outputs": [
    {
     "name": "stdout",
     "output_type": "stream",
     "text": [
      "Num of training batches 236\n",
      "Num of test batches 2\n"
     ]
    }
   ],
   "source": [
    "\n",
    "print('Num of training batches', len(dl_train))\n",
    "print('Num of test batches', len(dl_test))"
   ]
  },
  {
   "cell_type": "code",
   "execution_count": 74,
   "metadata": {},
   "outputs": [
    {
     "name": "stdout",
     "output_type": "stream",
     "text": [
      "Shape of X [N, C, H, W] :  torch.Size([64, 1, 28, 28])\n",
      "Shape of y :  torch.Size([64]) torch.int64\n"
     ]
    }
   ],
   "source": [
    "for X,y in dl_test:\n",
    "    print(\"Shape of X [N, C, H, W] : \", X.shape)\n",
    "    print(\"Shape of y : \", y.shape,y.dtype)\n",
    "    break"
   ]
  },
  {
   "cell_type": "code",
   "execution_count": 75,
   "metadata": {},
   "outputs": [],
   "source": [
    "#data visualization\n",
    "\n",
    "class_names = train_dataset.class_names\n",
    "\n",
    "def show_images(images,labels,preds):\n",
    "    plt.figure(figsize=(8,4))\n",
    "    for i,image in enumerate(images):\n",
    "        plt.subplot(1,64,i+1,xticks=[],yticks=[])\n",
    "        image = image.numpy().transpose((1,2,0))\n",
    "        mean = np.array([0.485,0.0456,0.406])\n",
    "        std = np.array([0.229,0.224,0.225])\n",
    "        image = image*std+mean\n",
    "        image = np.clip(image,0,1)\n",
    "        plt.imshow(image)\n",
    "\n",
    "        col = 'green' if preds[i] ==labels[i] else 'red'\n",
    "\n",
    "        plt.xlabel(f'{class_names[int(labels[i].numpy())]}')\n",
    "        plt.ylabel(f'{class_names[int(preds[i].numpy())]}',color = col)\n",
    "\n",
    "    plt.tight_layout()\n",
    "    plt.show()\n",
    "\n",
    "    "
   ]
  },
  {
   "cell_type": "code",
   "execution_count": 76,
   "metadata": {},
   "outputs": [
    {
     "name": "stderr",
     "output_type": "stream",
     "text": [
      "/var/folders/4f/l13zk5vs4ll_bmjd1d_z78pc0000gn/T/ipykernel_4621/2962085072.py:21: UserWarning: Tight layout not applied. tight_layout cannot make axes width small enough to accommodate all axes decorations\n",
      "  plt.tight_layout()\n"
     ]
    },
    {
     "data": {
      "image/png": "[encoded data removed]",
      "text/plain": [
       "<Figure size 576x288 with 64 Axes>"
      ]
     },
     "metadata": {},
     "output_type": "display_data"
    }
   ],
   "source": [
    "images,labels = next(iter(dl_train))\n",
    "show_images(images,labels,labels)"
   ]
  },
  {
   "cell_type": "code",
   "execution_count": 77,
   "metadata": {},
   "outputs": [
    {
     "name": "stderr",
     "output_type": "stream",
     "text": [
      "/var/folders/4f/l13zk5vs4ll_bmjd1d_z78pc0000gn/T/ipykernel_4621/2962085072.py:21: UserWarning: Tight layout not applied. tight_layout cannot make axes width small enough to accommodate all axes decorations\n",
      "  plt.tight_layout()\n"
     ]
    },
    {
     "data": {
      "image/png": "[encoded data removed]",
      "text/plain": [
       "<Figure size 576x288 with 64 Axes>"
      ]
     },
     "metadata": {},
     "output_type": "display_data"
    }
   ],
   "source": [
    "images,labels = next(iter(dl_test))\n",
    "show_images(images,labels,labels)"
   ]
  },
  {
   "cell_type": "code",
   "execution_count": 78,
   "metadata": {},
   "outputs": [],
   "source": [
    "#define model\n",
    "\n",
    "class NeuralNetwork(nn.Module):\n",
    "    def __init__(self):\n",
    "        super(NeuralNetwork,self).__init__()\n",
    "        self.flatten = nn.Flatten()\n",
    "        self.linear_relu_stack = nn.Sequential(\n",
    "            nn.Linear(28*28,512),\n",
    "            nn.ReLU(),\n",
    "            nn.Linear(512,512),\n",
    "            nn.ReLU(),\n",
    "            nn.Linear(512,3),\n",
    "            nn.ReLU()\n",
    "        )\n",
    "\n",
    "    def forward(self,X):\n",
    "        x = self.flatten(X)\n",
    "        logits = self.linear_relu_stack(x)\n",
    "        return logits\n",
    "        \n"
   ]
  },
  {
   "cell_type": "code",
   "execution_count": 79,
   "metadata": {},
   "outputs": [
    {
     "name": "stdout",
     "output_type": "stream",
     "text": [
      "using cpu device\n"
     ]
    }
   ],
   "source": [
    "#creating models\n",
    "device = \"cuda\" if torch.cuda.is_available() else \"cpu\"\n",
    "print('using {} device'.format(device))"
   ]
  },
  {
   "cell_type": "code",
   "execution_count": 80,
   "metadata": {},
   "outputs": [
    {
     "name": "stdout",
     "output_type": "stream",
     "text": [
      "NeuralNetwork(\n",
      "  (flatten): Flatten(start_dim=1, end_dim=-1)\n",
      "  (linear_relu_stack): Sequential(\n",
      "    (0): Linear(in_features=784, out_features=512, bias=True)\n",
      "    (1): ReLU()\n",
      "    (2): Linear(in_features=512, out_features=512, bias=True)\n",
      "    (3): ReLU()\n",
      "    (4): Linear(in_features=512, out_features=3, bias=True)\n",
      "    (5): ReLU()\n",
      "  )\n",
      ")\n"
     ]
    }
   ],
   "source": [
    "model = NeuralNetwork().to(device)\n",
    "print(model)"
   ]
  },
  {
   "cell_type": "code",
   "execution_count": 81,
   "metadata": {},
   "outputs": [],
   "source": [
    "loss_fn = nn.CrossEntropyLoss()\n",
    "lr = 1e-3\n",
    "optimizer = torch.optim.SGD(model.parameters(),lr=lr)"
   ]
  },
  {
   "cell_type": "code",
   "execution_count": 82,
   "metadata": {},
   "outputs": [],
   "source": [
    "def train(dataloader,model,loss_fn,optimizer):\n",
    "    size = len(dataloader.dataset)\n",
    "    for batch, (X,y) in enumerate(dataloader):\n",
    "        X,y = X.to(device), y.to(device)\n",
    "\n",
    "        #compute prediction error\n",
    "        pred = model(X)\n",
    "        loss  = loss_fn(pred,y)\n",
    "\n",
    "        #backpropagation\n",
    "        optimizer.zero_grad()\n",
    "        loss.backward()\n",
    "        optimizer.step()\n",
    "\n",
    "        if batch % 100 == 0:\n",
    "            loss,current = loss.item(),batch *len(X)\n",
    "            print(f'loss: {loss:>7f}[{current:>5d}/{size:>5d}]')"
   ]
  },
  {
   "cell_type": "code",
   "execution_count": 83,
   "metadata": {},
   "outputs": [],
   "source": [
    "def test(dataloader,model):\n",
    "    size = len(dataloader.dataset)\n",
    "    model.eval()\n",
    "    test_loss,correct = 0,0\n",
    "    with torch.no_grad():\n",
    "        for X,y in dataloader:\n",
    "            X,y = X.to(device),y.to(device)\n",
    "            pred = model(X)\n",
    "            test_loss += loss_fn(pred,y).item()\n",
    "            correct += (pred.argmax(1)==y).type(torch.float).sum().item()\n",
    "    test_loss /=size\n",
    "    correct /= size\n",
    "    print(f'test error: \\n Accuracy: {(100*correct):>0.1f}%, Avg loss: {test_loss:>8f} \\n')"
   ]
  },
  {
   "cell_type": "code",
   "execution_count": 84,
   "metadata": {},
   "outputs": [
    {
     "name": "stdout",
     "output_type": "stream",
     "text": [
      "Epoch1\n",
      "---------------\n",
      "loss: 1.104906[    0/15063]\n",
      "loss: 1.095979[ 6400/15063]\n",
      "loss: 1.091231[12800/15063]\n",
      "Done!\n"
     ]
    }
   ],
   "source": [
    "epochs = 1\n",
    "for t in range(epochs):\n",
    "    print(f'Epoch{t+1}\\n---------------')\n",
    "    train(dl_train,model,loss_fn,optimizer)\n",
    "    #test(test_dataloader,model)\n",
    "print(\"Done!\")"
   ]
  },
  {
   "cell_type": "code",
   "execution_count": null,
   "metadata": {},
   "outputs": [],
   "source": []
  },
  {
   "cell_type": "code",
   "execution_count": null,
   "metadata": {},
   "outputs": [],
   "source": []
  },
  {
   "cell_type": "code",
   "execution_count": null,
   "metadata": {},
   "outputs": [],
   "source": []
  },
  {
   "cell_type": "code",
   "execution_count": null,
   "metadata": {},
   "outputs": [],
   "source": []
  }
 ],
 "metadata": {
  "interpreter": {
   "hash": "ebd4687b375086012780cf11c74a509c00376aa1b9de0d353d50326a0152c12a"
  },
  "kernelspec": {
   "display_name": "Python 3.8.12 ('pytorchenv')",
   "language": "python",
   "name": "python3"
  },
  "language_info": {
   "codemirror_mode": {
    "name": "ipython",
    "version": 3
   },
   "file_extension": ".py",
   "mimetype": "text/x-python",
   "name": "python",
   "nbconvert_exporter": "python",
   "pygments_lexer": "ipython3",
   "version": "3.8.12"
  },
  "orig_nbformat": 4
 },
 "nbformat": 4,
 "nbformat_minor": 2
}
